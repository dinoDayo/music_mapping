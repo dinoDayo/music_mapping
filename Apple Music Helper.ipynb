{
 "cells": [
  {
   "cell_type": "code",
   "execution_count": 1,
   "id": "fd38fb9f",
   "metadata": {},
   "outputs": [
    {
     "data": {
      "text/plain": [
       "\"\\nam = applemusicpy.AppleMusic(secret_key, key_id, team_id)\\nresults = am.search('travis scott', types=['albums'], limit=5)\\n\\nfor item in results['results']['albums']['data']:\\n    print(item['attributes']['name'])\\n\""
      ]
     },
     "execution_count": 1,
     "metadata": {},
     "output_type": "execute_result"
    }
   ],
   "source": [
    "import applemusicpy\n",
    "\n",
    "secret_key = 'x'\n",
    "key_id = 'y'\n",
    "team_id = 'z'\n",
    "'''\n",
    "am = applemusicpy.AppleMusic(secret_key, key_id, team_id)\n",
    "results = am.search('travis scott', types=['albums'], limit=5)\n",
    "\n",
    "for item in results['results']['albums']['data']:\n",
    "    print(item['attributes']['name'])\n",
    "'''"
   ]
  },
  {
   "cell_type": "markdown",
   "id": "1e19fea4",
   "metadata": {},
   "source": [
    "The Apple Music API seems to require me to setup a website along with a few other annoying requirements so I'll probably do that later..."
   ]
  },
  {
   "cell_type": "code",
   "execution_count": null,
   "id": "a1a26791",
   "metadata": {},
   "outputs": [],
   "source": []
  }
 ],
 "metadata": {
  "kernelspec": {
   "display_name": "Python 3 (ipykernel)",
   "language": "python",
   "name": "python3"
  },
  "language_info": {
   "codemirror_mode": {
    "name": "ipython",
    "version": 3
   },
   "file_extension": ".py",
   "mimetype": "text/x-python",
   "name": "python",
   "nbconvert_exporter": "python",
   "pygments_lexer": "ipython3",
   "version": "3.7.4"
  }
 },
 "nbformat": 4,
 "nbformat_minor": 5
}

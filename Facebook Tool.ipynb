{
 "cells": [
  {
   "cell_type": "markdown",
   "id": "a23cd69a",
   "metadata": {},
   "source": [
    "## getPersonalFacebookGraphAPIDataUsingPython()\n",
    "- src:https://towardsdatascience.com/how-to-use-facebook-graph-api-and-extract-data-using-python-1839e19d6999"
   ]
  },
  {
   "cell_type": "code",
   "execution_count": 3,
   "id": "fb4133a5",
   "metadata": {},
   "outputs": [
    {
     "data": {
      "text/plain": [
       "True"
      ]
     },
     "execution_count": 3,
     "metadata": {},
     "output_type": "execute_result"
    }
   ],
   "source": [
    "import facebook  # unclear if this library still works...\n",
    "\n",
    "import os\n",
    "import sys\n",
    "import json\n",
    "import pprint\n",
    "import argparse\n",
    "import requests\n",
    "import pandas as pd\n",
    "from os import listdir\n",
    "from os.path import isfile, join\n",
    "from dotenv import load_dotenv\n",
    "\n",
    "load_dotenv()"
   ]
  },
  {
   "cell_type": "code",
   "execution_count": 25,
   "id": "3526b051",
   "metadata": {},
   "outputs": [
    {
     "name": "stdout",
     "output_type": "stream",
     "text": [
      "\n",
      "failure\n"
     ]
    }
   ],
   "source": [
    "def test_func(**kwargs):\n",
    "    print(kwargs.get(\"first_name\", \"\"))\n",
    "    print(kwargs.get(\"first_name\", \"failure\"))\n",
    "\n",
    "\n",
    "#     test_str = kwargs.get('first_name','') + kwargs.get('first_nam','') + kwargs.get('last_name','')\n",
    "#     print(test_str)\n",
    "#     if kwargs:\n",
    "#         print('yes')\n",
    "#     else:\n",
    "#         print('no')\n",
    "test_func()"
   ]
  },
  {
   "cell_type": "code",
   "execution_count": 38,
   "id": "34d6a9fa",
   "metadata": {},
   "outputs": [],
   "source": [
    "class facebookHelper:\n",
    "    def __init__(self):\n",
    "        # music_mapping credentials\n",
    "        self.appID = os.environ.get(\"facebookAppID\")\n",
    "        self.access_token = os.environ.get(\"facebookAppAcessToken\")\n",
    "        self.user_token = os.environ.get(\"facebookUserAccessToken\")\n",
    "        # yoU credentials\n",
    "        self.old_token = os.environ.get(\"oldFbID\")\n",
    "        self.old_secret = os.environ.get(\"oldSecret\")\n",
    "        # default fields\n",
    "        self.base_url = \"https://graph.facebook.com/v\"\n",
    "        self.data_path = \"/Users/dayoorigunwa/code_base/music_mapping/data/\"\n",
    "        # self.sp = self.getClient()\n",
    "\n",
    "    def __str__(self):\n",
    "        return \"Facebook API Helper\"\n",
    "\n",
    "    def _request_args(self):\n",
    "        args = {\n",
    "            \"version\": \"12.0\",\n",
    "            \"node\": \"me\",\n",
    "            \"field_sep\": \"%2C\",\n",
    "            \"creds_sep\": \"&\",\n",
    "            \"fields\": [\"id\", \"name\", \"email\"],\n",
    "        }\n",
    "        return args\n",
    "\n",
    "    def build_request(self, **kwargs):\n",
    "        # NOTE: Access token required for this to resolve...\n",
    "        mArgs = self._request_args() if not kwargs else kwargs\n",
    "        query_1 = \"https://graph.facebook.com/v12.0/me?fields=id%2Cname%2Cemail&transport=cors&access_token=EAAGOLqHzArABAPBtrJMN7pUyWjrYRrvDzDqy7st3qy3JhcBAYmn8ZAzehiMv4wyEKI9853wdTs4E3Il4C1rARdIcQMyfEegyVSbEez3cnfZAgEwQyovlFPuexsRnOZB3cWeUsxEYM6Bab3i5Bz9RPZAAw1zJUM2ZBZAZAUWhIgMKsPliutt7t4w9zsV45f0YQ2FtPBM2xsjOAZDZD\"\n",
    "        query = self.base_url + mArgs.get(\"version\", \"\") + \"/\" + mArgs.get(\"node\", \"\")\n",
    "        if mArgs.get(\"fields\", \"\"):\n",
    "            query += \"?fields=\"\n",
    "            for fld in mArgs.get(\"fields\"):\n",
    "                query += fld + mArgs.get(\"field_sep\")\n",
    "        return query\n",
    "\n",
    "    def get_graph(self, creds=\"legacy\"):\n",
    "        if creds == \"legacy\":\n",
    "            return facebook.GraphAPI(access_token=self.user_token, version=\"3.1\")\n",
    "        else:\n",
    "            return facebook.GraphAPI(access_token=self.user_token, version=\"3.1\")"
   ]
  },
  {
   "cell_type": "code",
   "execution_count": 39,
   "id": "e689d538",
   "metadata": {},
   "outputs": [
    {
     "data": {
      "text/plain": [
       "'https://graph.facebook.com/v12.0/me?fields=id%2Cname%2Cemail%2C'"
      ]
     },
     "execution_count": 39,
     "metadata": {},
     "output_type": "execute_result"
    }
   ],
   "source": [
    "fb = facebookHelper()\n",
    "fb.build_request()"
   ]
  },
  {
   "cell_type": "code",
   "execution_count": 5,
   "id": "ed34b513",
   "metadata": {},
   "outputs": [],
   "source": [
    "fb = facebookHelper()\n",
    "g = fb.get_graph(creds=\"legacy\")"
   ]
  },
  {
   "cell_type": "code",
   "execution_count": 25,
   "id": "e7ebc010",
   "metadata": {},
   "outputs": [
    {
     "data": {
      "text/plain": [
       "['__class__',\n",
       " '__delattr__',\n",
       " '__dict__',\n",
       " '__dir__',\n",
       " '__doc__',\n",
       " '__eq__',\n",
       " '__format__',\n",
       " '__ge__',\n",
       " '__getattribute__',\n",
       " '__gt__',\n",
       " '__hash__',\n",
       " '__init__',\n",
       " '__init_subclass__',\n",
       " '__le__',\n",
       " '__lt__',\n",
       " '__module__',\n",
       " '__ne__',\n",
       " '__new__',\n",
       " '__reduce__',\n",
       " '__reduce_ex__',\n",
       " '__repr__',\n",
       " '__setattr__',\n",
       " '__sizeof__',\n",
       " '__str__',\n",
       " '__subclasshook__',\n",
       " '__weakref__',\n",
       " 'access_token',\n",
       " 'debug_access_token',\n",
       " 'delete_object',\n",
       " 'delete_request',\n",
       " 'extend_access_token',\n",
       " 'get_access_token_from_code',\n",
       " 'get_all_connections',\n",
       " 'get_app_access_token',\n",
       " 'get_auth_url',\n",
       " 'get_connections',\n",
       " 'get_object',\n",
       " 'get_objects',\n",
       " 'get_permissions',\n",
       " 'get_version',\n",
       " 'proxies',\n",
       " 'put_comment',\n",
       " 'put_like',\n",
       " 'put_object',\n",
       " 'put_photo',\n",
       " 'request',\n",
       " 'search',\n",
       " 'session',\n",
       " 'timeout',\n",
       " 'version']"
      ]
     },
     "execution_count": 25,
     "metadata": {},
     "output_type": "execute_result"
    }
   ],
   "source": [
    "list(dir(g))"
   ]
  },
  {
   "cell_type": "markdown",
   "id": "5acd384c",
   "metadata": {},
   "source": [
    "#### Testing out facebook-sdk docs..."
   ]
  },
  {
   "cell_type": "code",
   "execution_count": 6,
   "id": "762f4f04",
   "metadata": {},
   "outputs": [
    {
     "ename": "GraphAPIError",
     "evalue": "(#3) Application does not have the capability to make this API call.",
     "output_type": "error",
     "traceback": [
      "\u001b[0;31m---------------------------------------------------------------------------\u001b[0m",
      "\u001b[0;31mGraphAPIError\u001b[0m                             Traceback (most recent call last)",
      "\u001b[0;32m/var/folders/9f/0jslw5zs3rg1hqt9w92zlbv00000gn/T/ipykernel_28371/962639775.py\u001b[0m in \u001b[0;36m<module>\u001b[0;34m\u001b[0m\n\u001b[0;32m----> 1\u001b[0;31m \u001b[0mg\u001b[0m\u001b[0;34m.\u001b[0m\u001b[0mrequest\u001b[0m\u001b[0;34m(\u001b[0m\u001b[0mpath\u001b[0m\u001b[0;34m=\u001b[0m\u001b[0;34m'/search?q=test&type=event&limit=10000'\u001b[0m\u001b[0;34m)\u001b[0m\u001b[0;34m\u001b[0m\u001b[0;34m\u001b[0m\u001b[0m\n\u001b[0m",
      "\u001b[0;32m~/.pyenv/versions/3.7.4/envs/music/lib/python3.7/site-packages/facebook/__init__.py\u001b[0m in \u001b[0;36mrequest\u001b[0;34m(self, path, args, post_args, files, method)\u001b[0m\n\u001b[1;32m    311\u001b[0m \u001b[0;34m\u001b[0m\u001b[0m\n\u001b[1;32m    312\u001b[0m         \u001b[0;32mif\u001b[0m \u001b[0mresult\u001b[0m \u001b[0;32mand\u001b[0m \u001b[0misinstance\u001b[0m\u001b[0;34m(\u001b[0m\u001b[0mresult\u001b[0m\u001b[0;34m,\u001b[0m \u001b[0mdict\u001b[0m\u001b[0;34m)\u001b[0m \u001b[0;32mand\u001b[0m \u001b[0mresult\u001b[0m\u001b[0;34m.\u001b[0m\u001b[0mget\u001b[0m\u001b[0;34m(\u001b[0m\u001b[0;34m\"error\"\u001b[0m\u001b[0;34m)\u001b[0m\u001b[0;34m:\u001b[0m\u001b[0;34m\u001b[0m\u001b[0;34m\u001b[0m\u001b[0m\n\u001b[0;32m--> 313\u001b[0;31m             \u001b[0;32mraise\u001b[0m \u001b[0mGraphAPIError\u001b[0m\u001b[0;34m(\u001b[0m\u001b[0mresult\u001b[0m\u001b[0;34m)\u001b[0m\u001b[0;34m\u001b[0m\u001b[0;34m\u001b[0m\u001b[0m\n\u001b[0m\u001b[1;32m    314\u001b[0m         \u001b[0;32mreturn\u001b[0m \u001b[0mresult\u001b[0m\u001b[0;34m\u001b[0m\u001b[0;34m\u001b[0m\u001b[0m\n\u001b[1;32m    315\u001b[0m \u001b[0;34m\u001b[0m\u001b[0m\n",
      "\u001b[0;31mGraphAPIError\u001b[0m: (#3) Application does not have the capability to make this API call."
     ]
    }
   ],
   "source": [
    "g.request(path=\"/search?q=test&type=event&limit=10000\")"
   ]
  },
  {
   "cell_type": "code",
   "execution_count": 7,
   "id": "9027cb00",
   "metadata": {},
   "outputs": [
    {
     "data": {
      "text/plain": [
       "'v3.1'"
      ]
     },
     "execution_count": 7,
     "metadata": {},
     "output_type": "execute_result"
    }
   ],
   "source": [
    "g.version"
   ]
  },
  {
   "cell_type": "code",
   "execution_count": 8,
   "id": "e66b5a40",
   "metadata": {},
   "outputs": [
    {
     "data": {
      "text/plain": [
       "{'id': '10208907223354367',\n",
       " 'name': 'Dayo Origunwa',\n",
       " 'email': 'origunwadayo@yahoo.com'}"
      ]
     },
     "execution_count": 8,
     "metadata": {},
     "output_type": "execute_result"
    }
   ],
   "source": [
    "# testing a curl replication\n",
    "test_link = \"https://graph.facebook.com/v12.0/me?fields=id%2Cname%2Cemail&transport=cors&access_token=EAAGOLqHzArABAPBtrJMN7pUyWjrYRrvDzDqy7st3qy3JhcBAYmn8ZAzehiMv4wyEKI9853wdTs4E3Il4C1rARdIcQMyfEegyVSbEez3cnfZAgEwQyovlFPuexsRnOZB3cWeUsxEYM6Bab3i5Bz9RPZAAw1zJUM2ZBZAZAUWhIgMKsPliutt7t4w9zsV45f0YQ2FtPBM2xsjOAZDZD\"\n",
    "\n",
    "import requests\n",
    "\n",
    "r = requests.get(test_link)\n",
    "r.json()"
   ]
  },
  {
   "cell_type": "code",
   "execution_count": null,
   "id": "6cef8c67",
   "metadata": {},
   "outputs": [],
   "source": []
  }
 ],
 "metadata": {
  "kernelspec": {
   "display_name": "Python 3 (ipykernel)",
   "language": "python",
   "name": "python3"
  },
  "language_info": {
   "codemirror_mode": {
    "name": "ipython",
    "version": 3
   },
   "file_extension": ".py",
   "mimetype": "text/x-python",
   "name": "python",
   "nbconvert_exporter": "python",
   "pygments_lexer": "ipython3",
   "version": "3.7.4"
  }
 },
 "nbformat": 4,
 "nbformat_minor": 5
}

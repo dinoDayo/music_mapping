{
 "cells": [
  {
   "cell_type": "code",
   "execution_count": 1,
   "id": "caaea470",
   "metadata": {},
   "outputs": [],
   "source": [
    "import os\n",
    "import sys\n",
    "import json\n",
    "import pprint\n",
    "import spotipy\n",
    "import argparse\n",
    "import requests\n",
    "import subprocess\n",
    "import pandas as pd\n",
    "from os import listdir\n",
    "import spotipy.util as util\n",
    "from bs4 import BeautifulSoup\n",
    "from os.path import isfile, join\n",
    "from spotipy.oauth2 import SpotifyClientCredentials\n",
    "from dotenv import load_dotenv\n",
    "from pytube import YouTube"
   ]
  },
  {
   "cell_type": "code",
   "execution_count": 2,
   "id": "c32d85d7",
   "metadata": {},
   "outputs": [
    {
     "name": "stdout",
     "output_type": "stream",
     "text": [
      "Some Error!\n",
      "Task Completed!\n"
     ]
    }
   ],
   "source": [
    "# where to save\n",
    "SAVE_PATH = \"/Users/dayoorigunwa/code_base/music_mapping/data/\"  # to_do\n",
    "\n",
    "# link of the video to be downloaded\n",
    "link = \"https://www.youtube.com/watch?v=_h2WpMH_q-I&list=PPSV\"\n",
    "\n",
    "try:\n",
    "    # object creation using YouTube\n",
    "    # which was imported in the beginning\n",
    "    yt = YouTube(link)\n",
    "except:\n",
    "    print(\"Connection Error\")  # to handle exception\n",
    "\n",
    "# to set the name of the file\n",
    "# yt.set_filename('GeeksforGeeks Video')\n",
    "\n",
    "# get the video with the extension and\n",
    "# resolution passed in the get() function\n",
    "# d_video = yt.get(mp4files[-1].extension,mp4files[-1].resolution)\n",
    "try:\n",
    "    # downloading the video\n",
    "    d_video.download(SAVE_PATH)\n",
    "except:\n",
    "    print(\"Some Error!\")\n",
    "print(\"Task Completed!\")"
   ]
  },
  {
   "cell_type": "code",
   "execution_count": 3,
   "id": "5ada9d15",
   "metadata": {},
   "outputs": [
    {
     "name": "stdout",
     "output_type": "stream",
     "text": [
      "[youtube:tab] Downloading playlist PPSV - add --no-playlist to just download video _h2WpMH_q-I\n",
      "[youtube:tab] PPSV: Downloading webpage\n",
      "[youtube] _h2WpMH_q-I: Downloading webpage\n",
      "[youtube] _h2WpMH_q-I: Downloading player 577098c0\n",
      "[download] Devil in a New Dress (Donda's Intro) + GOOD ASS JOB Extended To 10 Minutes-_h2WpMH_q-I.mp4 has already been downloaded\n",
      "[download] 100% of 11.54MiB\n"
     ]
    }
   ],
   "source": [
    "from youtube_dl import YoutubeDL\n",
    "\n",
    "# audio_downloader = YoutubeDL({'format':'bestaudio'})\n",
    "audio_downloader = YoutubeDL({\"format\": \"mp4\"})\n",
    "\n",
    "audio = audio_downloader.extract_info(link)"
   ]
  },
  {
   "cell_type": "code",
   "execution_count": 4,
   "id": "0a4a93b6",
   "metadata": {},
   "outputs": [
    {
     "data": {
      "text/plain": [
       "['_NUMERIC_FIELDS',\n",
       " '_YoutubeDL__extract_info',\n",
       " '_YoutubeDL__forced_printings',\n",
       " '_YoutubeDL__handle_extraction_exceptions',\n",
       " '_YoutubeDL__process_iterable_entry',\n",
       " '_YoutubeDL__process_playlist',\n",
       " '__class__',\n",
       " '__delattr__',\n",
       " '__dict__',\n",
       " '__dir__',\n",
       " '__doc__',\n",
       " '__enter__',\n",
       " '__eq__',\n",
       " '__exit__',\n",
       " '__format__',\n",
       " '__ge__',\n",
       " '__getattribute__',\n",
       " '__gt__',\n",
       " '__hash__',\n",
       " '__init__',\n",
       " '__init_subclass__',\n",
       " '__le__',\n",
       " '__lt__',\n",
       " '__module__',\n",
       " '__ne__',\n",
       " '__new__',\n",
       " '__reduce__',\n",
       " '__reduce_ex__',\n",
       " '__repr__',\n",
       " '__setattr__',\n",
       " '__sizeof__',\n",
       " '__str__',\n",
       " '__subclasshook__',\n",
       " '__weakref__',\n",
       " '_bidi_workaround',\n",
       " '_build_format_filter',\n",
       " '_calc_cookies',\n",
       " '_calc_headers',\n",
       " '_default_format_spec',\n",
       " '_download_retcode',\n",
       " '_err_file',\n",
       " '_format_note',\n",
       " '_ies',\n",
       " '_ies_instances',\n",
       " '_make_archive_id',\n",
       " '_match_entry',\n",
       " '_num_downloads',\n",
       " '_opener',\n",
       " '_playlist_level',\n",
       " '_playlist_urls',\n",
       " '_pps',\n",
       " '_progress_hooks',\n",
       " '_screen_file',\n",
       " '_setup_opener',\n",
       " '_socket_timeout',\n",
       " '_write_string',\n",
       " '_write_thumbnails',\n",
       " 'add_default_extra_info',\n",
       " 'add_default_info_extractors',\n",
       " 'add_extra_info',\n",
       " 'add_info_extractor',\n",
       " 'add_post_processor',\n",
       " 'add_progress_hook',\n",
       " 'build_format_selector',\n",
       " 'cache',\n",
       " 'cookiejar',\n",
       " 'download',\n",
       " 'download_with_info_file',\n",
       " 'encode',\n",
       " 'extract_info',\n",
       " 'filter_requested_info',\n",
       " 'format_resolution',\n",
       " 'get_encoding',\n",
       " 'get_info_extractor',\n",
       " 'in_download_archive',\n",
       " 'list_formats',\n",
       " 'list_subtitles',\n",
       " 'list_thumbnails',\n",
       " 'params',\n",
       " 'post_process',\n",
       " 'prepare_filename',\n",
       " 'print_debug_header',\n",
       " 'process_ie_result',\n",
       " 'process_info',\n",
       " 'process_subtitles',\n",
       " 'process_video_result',\n",
       " 'record_download_archive',\n",
       " 'report_error',\n",
       " 'report_file_already_downloaded',\n",
       " 'report_warning',\n",
       " 'restore_console_title',\n",
       " 'save_console_title',\n",
       " 'to_console_title',\n",
       " 'to_screen',\n",
       " 'to_stderr',\n",
       " 'to_stdout',\n",
       " 'trouble',\n",
       " 'urlopen',\n",
       " 'warn_if_short_id']"
      ]
     },
     "execution_count": 4,
     "metadata": {},
     "output_type": "execute_result"
    }
   ],
   "source": [
    "list(dir(audio_downloader))"
   ]
  },
  {
   "cell_type": "code",
   "execution_count": 5,
   "id": "6a18cdc9",
   "metadata": {},
   "outputs": [
    {
     "data": {
      "text/plain": [
       "dict_keys(['id', 'title', 'formats', 'thumbnails', 'description', 'upload_date', 'uploader', 'uploader_id', 'uploader_url', 'channel_id', 'channel_url', 'duration', 'view_count', 'average_rating', 'age_limit', 'webpage_url', 'categories', 'tags', 'is_live', 'like_count', 'channel', 'extractor', 'webpage_url_basename', 'extractor_key', 'playlist', 'playlist_index', 'thumbnail', 'display_id', 'requested_subtitles', 'asr', 'filesize', 'format_id', 'format_note', 'fps', 'height', 'quality', 'tbr', 'url', 'width', 'ext', 'vcodec', 'acodec', 'format', 'protocol', 'http_headers'])"
      ]
     },
     "execution_count": 5,
     "metadata": {},
     "output_type": "execute_result"
    }
   ],
   "source": [
    "audio.keys()"
   ]
  },
  {
   "cell_type": "code",
   "execution_count": 6,
   "id": "ea27218b",
   "metadata": {},
   "outputs": [
    {
     "data": {
      "text/plain": [
       "'https://rr9---sn-bvvbax-cvne.googlevideo.com/videoplayback?expire=1647597799&ei=hwQ0YqC-BZeRhwaanqmoDg&ip=2601%3A18d%3A4501%3A1130%3A8543%3A82ec%3Ad622%3Ab85c&id=o-AFC6bZ2pisNSeEBv6fb0lkipBtcYvE6MuoSITPKdPRpR&itag=18&source=youtube&requiressl=yes&mh=gJ&mm=31%2C29&mn=sn-bvvbax-cvne%2Csn-ab5sznzs&ms=au%2Crdu&mv=m&mvi=9&pl=34&initcwndbps=1725000&vprv=1&mime=video%2Fmp4&ns=prk6AwJDAuLA3mDmOA22a6MG&gir=yes&clen=12100891&ratebypass=yes&dur=642.194&lmt=1623529052692305&mt=1647575321&fvip=3&fexp=24001373%2C24007246&c=WEB&txp=5430432&n=L78mxVtDRuXzZWl1&sparams=expire%2Cei%2Cip%2Cid%2Citag%2Csource%2Crequiressl%2Cvprv%2Cmime%2Cns%2Cgir%2Cclen%2Cratebypass%2Cdur%2Clmt&lsparams=mh%2Cmm%2Cmn%2Cms%2Cmv%2Cmvi%2Cpl%2Cinitcwndbps&lsig=AG3C_xAwRQIgCsNm-dqE1XUX7Nnn-50njq-Z77I7XW5evCfGK9f-oEcCIQCqCdabDbieq4ymtJP8H7y8TROIZBiOLkTeS45y5uWGow%3D%3D&sig=AOq0QJ8wRQIhAKF6imOd4Myjx02GUr40v-Eiz1IBu2KcSDeoIB5737pfAiBNLoEHsWTofufPq8Bby3mSpaZ9b54Y2m_tEScDvo3sqw=='"
      ]
     },
     "execution_count": 6,
     "metadata": {},
     "output_type": "execute_result"
    }
   ],
   "source": [
    "audio[\"url\"]"
   ]
  },
  {
   "cell_type": "code",
   "execution_count": 8,
   "id": "124cf62f",
   "metadata": {},
   "outputs": [
    {
     "data": {
      "text/plain": [
       "'m4a'"
      ]
     },
     "execution_count": 8,
     "metadata": {},
     "output_type": "execute_result"
    }
   ],
   "source": [
    "audio[\"ext\"]"
   ]
  },
  {
   "cell_type": "code",
   "execution_count": 11,
   "id": "ac2c12d4",
   "metadata": {},
   "outputs": [
    {
     "name": "stderr",
     "output_type": "stream",
     "text": [
      "ERROR: 'h' is not a valid URL. Set --default-search \"ytsearch\" (or run  youtube-dl \"ytsearch:h\" ) to search YouTube\n"
     ]
    },
    {
     "ename": "DownloadError",
     "evalue": "ERROR: 'h' is not a valid URL. Set --default-search \"ytsearch\" (or run  youtube-dl \"ytsearch:h\" ) to search YouTube",
     "output_type": "error",
     "traceback": [
      "\u001b[0;31m---------------------------------------------------------------------------\u001b[0m",
      "\u001b[0;31mExtractorError\u001b[0m                            Traceback (most recent call last)",
      "\u001b[0;32m~/.pyenv/versions/3.7.4/envs/music/lib/python3.7/site-packages/youtube_dl/YoutubeDL.py\u001b[0m in \u001b[0;36mwrapper\u001b[0;34m(self, *args, **kwargs)\u001b[0m\n\u001b[1;32m    814\u001b[0m             \u001b[0;32mtry\u001b[0m\u001b[0;34m:\u001b[0m\u001b[0;34m\u001b[0m\u001b[0;34m\u001b[0m\u001b[0m\n\u001b[0;32m--> 815\u001b[0;31m                 \u001b[0;32mreturn\u001b[0m \u001b[0mfunc\u001b[0m\u001b[0;34m(\u001b[0m\u001b[0mself\u001b[0m\u001b[0;34m,\u001b[0m \u001b[0;34m*\u001b[0m\u001b[0margs\u001b[0m\u001b[0;34m,\u001b[0m \u001b[0;34m**\u001b[0m\u001b[0mkwargs\u001b[0m\u001b[0;34m)\u001b[0m\u001b[0;34m\u001b[0m\u001b[0;34m\u001b[0m\u001b[0m\n\u001b[0m\u001b[1;32m    816\u001b[0m             \u001b[0;32mexcept\u001b[0m \u001b[0mGeoRestrictedError\u001b[0m \u001b[0;32mas\u001b[0m \u001b[0me\u001b[0m\u001b[0;34m:\u001b[0m\u001b[0;34m\u001b[0m\u001b[0;34m\u001b[0m\u001b[0m\n",
      "\u001b[0;32m~/.pyenv/versions/3.7.4/envs/music/lib/python3.7/site-packages/youtube_dl/YoutubeDL.py\u001b[0m in \u001b[0;36m__extract_info\u001b[0;34m(self, url, ie, download, extra_info, process)\u001b[0m\n\u001b[1;32m    835\u001b[0m     \u001b[0;32mdef\u001b[0m \u001b[0m__extract_info\u001b[0m\u001b[0;34m(\u001b[0m\u001b[0mself\u001b[0m\u001b[0;34m,\u001b[0m \u001b[0murl\u001b[0m\u001b[0;34m,\u001b[0m \u001b[0mie\u001b[0m\u001b[0;34m,\u001b[0m \u001b[0mdownload\u001b[0m\u001b[0;34m,\u001b[0m \u001b[0mextra_info\u001b[0m\u001b[0;34m,\u001b[0m \u001b[0mprocess\u001b[0m\u001b[0;34m)\u001b[0m\u001b[0;34m:\u001b[0m\u001b[0;34m\u001b[0m\u001b[0;34m\u001b[0m\u001b[0m\n\u001b[0;32m--> 836\u001b[0;31m         \u001b[0mie_result\u001b[0m \u001b[0;34m=\u001b[0m \u001b[0mie\u001b[0m\u001b[0;34m.\u001b[0m\u001b[0mextract\u001b[0m\u001b[0;34m(\u001b[0m\u001b[0murl\u001b[0m\u001b[0;34m)\u001b[0m\u001b[0;34m\u001b[0m\u001b[0;34m\u001b[0m\u001b[0m\n\u001b[0m\u001b[1;32m    837\u001b[0m         \u001b[0;32mif\u001b[0m \u001b[0mie_result\u001b[0m \u001b[0;32mis\u001b[0m \u001b[0;32mNone\u001b[0m\u001b[0;34m:\u001b[0m  \u001b[0;31m# Finished already (backwards compatibility; listformats and friends should be moved here)\u001b[0m\u001b[0;34m\u001b[0m\u001b[0;34m\u001b[0m\u001b[0m\n",
      "\u001b[0;32m~/.pyenv/versions/3.7.4/envs/music/lib/python3.7/site-packages/youtube_dl/extractor/common.py\u001b[0m in \u001b[0;36mextract\u001b[0;34m(self, url)\u001b[0m\n\u001b[1;32m    533\u001b[0m                     \u001b[0mself\u001b[0m\u001b[0;34m.\u001b[0m\u001b[0minitialize\u001b[0m\u001b[0;34m(\u001b[0m\u001b[0;34m)\u001b[0m\u001b[0;34m\u001b[0m\u001b[0;34m\u001b[0m\u001b[0m\n\u001b[0;32m--> 534\u001b[0;31m                     \u001b[0mie_result\u001b[0m \u001b[0;34m=\u001b[0m \u001b[0mself\u001b[0m\u001b[0;34m.\u001b[0m\u001b[0m_real_extract\u001b[0m\u001b[0;34m(\u001b[0m\u001b[0murl\u001b[0m\u001b[0;34m)\u001b[0m\u001b[0;34m\u001b[0m\u001b[0;34m\u001b[0m\u001b[0m\n\u001b[0m\u001b[1;32m    535\u001b[0m                     \u001b[0;32mif\u001b[0m \u001b[0mself\u001b[0m\u001b[0;34m.\u001b[0m\u001b[0m_x_forwarded_for_ip\u001b[0m\u001b[0;34m:\u001b[0m\u001b[0;34m\u001b[0m\u001b[0;34m\u001b[0m\u001b[0m\n",
      "\u001b[0;32m~/.pyenv/versions/3.7.4/envs/music/lib/python3.7/site-packages/youtube_dl/extractor/generic.py\u001b[0m in \u001b[0;36m_real_extract\u001b[0;34m(self, url)\u001b[0m\n\u001b[1;32m   2363\u001b[0m                     \u001b[0;34m'Set --default-search \"ytsearch\" (or run  youtube-dl \"ytsearch:%s\" ) to search YouTube'\u001b[0m\u001b[0;34m\u001b[0m\u001b[0;34m\u001b[0m\u001b[0m\n\u001b[0;32m-> 2364\u001b[0;31m                     % (url, url), expected=True)\n\u001b[0m\u001b[1;32m   2365\u001b[0m             \u001b[0;32melse\u001b[0m\u001b[0;34m:\u001b[0m\u001b[0;34m\u001b[0m\u001b[0;34m\u001b[0m\u001b[0m\n",
      "\u001b[0;31mExtractorError\u001b[0m: 'h' is not a valid URL. Set --default-search \"ytsearch\" (or run  youtube-dl \"ytsearch:h\" ) to search YouTube",
      "\nDuring handling of the above exception, another exception occurred:\n",
      "\u001b[0;31mDownloadError\u001b[0m                             Traceback (most recent call last)",
      "\u001b[0;32m/var/folders/9f/0jslw5zs3rg1hqt9w92zlbv00000gn/T/ipykernel_90253/1121594488.py\u001b[0m in \u001b[0;36m<module>\u001b[0;34m\u001b[0m\n\u001b[0;32m----> 1\u001b[0;31m \u001b[0maudio_downloader\u001b[0m\u001b[0;34m.\u001b[0m\u001b[0mdownload\u001b[0m\u001b[0;34m(\u001b[0m\u001b[0;34m'https://rr9---sn-bvvbax-cvne.googlevideo.com/videoplayback?expire=1646817718&ei=Vh0oYuLxKtamhwa9u6T4Aw&ip=2601%3A18d%3A4501%3A1130%3Acdb0%3Abdd7%3Ae67d%3A23e0&id=o-ADKLQurjZvI-bwYTjoc6PBLtIuwJw8X5kKYqC6TNslWq&itag=140&source=youtube&requiressl=yes&mh=gJ&mm=31%2C29&mn=sn-bvvbax-cvne%2Csn-ab5sznl7&ms=au%2Crdu&mv=m&mvi=9&pl=37&initcwndbps=1785000&vprv=1&mime=audio%2Fmp4&ns=UGk0a7Uujv2jkau3Uuf5CU0G&gir=yes&clen=10393940&dur=642.194&lmt=1623528688478062&mt=1646795841&fvip=3&keepalive=yes&fexp=24001373%2C24007246&c=WEB&txp=5431432&n=dqpDmIRlXYvAvWHW_IL5&sparams=expire%2Cei%2Cip%2Cid%2Citag%2Csource%2Crequiressl%2Cvprv%2Cmime%2Cns%2Cgir%2Cclen%2Cdur%2Clmt&lsparams=mh%2Cmm%2Cmn%2Cms%2Cmv%2Cmvi%2Cpl%2Cinitcwndbps&lsig=AG3C_xAwRQIhAJ_7uQPQBaBFMn9VU-aGPueYj8pNDsDH6n0CvpcEsfn4AiBAr1UDt5t3Kb-_mqWEkAZ0U7IGE5bv8Zp2Onk8EgKNXA%3D%3D&sig=AOq0QJ8wRQIgTxznmtHmt35Ocr8KD8B0SEw4b9K9nICuFDFz0ABZNyoCIQDH-cEgUmIcVHOnHcCNbcrHuH37WsF7BuytKkJLB0vaPA=='\u001b[0m\u001b[0;34m)\u001b[0m\u001b[0;34m\u001b[0m\u001b[0;34m\u001b[0m\u001b[0m\n\u001b[0m",
      "\u001b[0;32m~/.pyenv/versions/3.7.4/envs/music/lib/python3.7/site-packages/youtube_dl/YoutubeDL.py\u001b[0m in \u001b[0;36mdownload\u001b[0;34m(self, url_list)\u001b[0m\n\u001b[1;32m   2067\u001b[0m                 \u001b[0;31m# It also downloads the videos\u001b[0m\u001b[0;34m\u001b[0m\u001b[0;34m\u001b[0m\u001b[0;34m\u001b[0m\u001b[0m\n\u001b[1;32m   2068\u001b[0m                 res = self.extract_info(\n\u001b[0;32m-> 2069\u001b[0;31m                     url, force_generic_extractor=self.params.get('force_generic_extractor', False))\n\u001b[0m\u001b[1;32m   2070\u001b[0m             \u001b[0;32mexcept\u001b[0m \u001b[0mUnavailableVideoError\u001b[0m\u001b[0;34m:\u001b[0m\u001b[0;34m\u001b[0m\u001b[0;34m\u001b[0m\u001b[0m\n\u001b[1;32m   2071\u001b[0m                 \u001b[0mself\u001b[0m\u001b[0;34m.\u001b[0m\u001b[0mreport_error\u001b[0m\u001b[0;34m(\u001b[0m\u001b[0;34m'unable to download video'\u001b[0m\u001b[0;34m)\u001b[0m\u001b[0;34m\u001b[0m\u001b[0;34m\u001b[0m\u001b[0m\n",
      "\u001b[0;32m~/.pyenv/versions/3.7.4/envs/music/lib/python3.7/site-packages/youtube_dl/YoutubeDL.py\u001b[0m in \u001b[0;36mextract_info\u001b[0;34m(self, url, download, ie_key, extra_info, process, force_generic_extractor)\u001b[0m\n\u001b[1;32m    806\u001b[0m                                     'and will probably not work.')\n\u001b[1;32m    807\u001b[0m \u001b[0;34m\u001b[0m\u001b[0m\n\u001b[0;32m--> 808\u001b[0;31m             \u001b[0;32mreturn\u001b[0m \u001b[0mself\u001b[0m\u001b[0;34m.\u001b[0m\u001b[0m__extract_info\u001b[0m\u001b[0;34m(\u001b[0m\u001b[0murl\u001b[0m\u001b[0;34m,\u001b[0m \u001b[0mie\u001b[0m\u001b[0;34m,\u001b[0m \u001b[0mdownload\u001b[0m\u001b[0;34m,\u001b[0m \u001b[0mextra_info\u001b[0m\u001b[0;34m,\u001b[0m \u001b[0mprocess\u001b[0m\u001b[0;34m)\u001b[0m\u001b[0;34m\u001b[0m\u001b[0;34m\u001b[0m\u001b[0m\n\u001b[0m\u001b[1;32m    809\u001b[0m         \u001b[0;32melse\u001b[0m\u001b[0;34m:\u001b[0m\u001b[0;34m\u001b[0m\u001b[0;34m\u001b[0m\u001b[0m\n\u001b[1;32m    810\u001b[0m             \u001b[0mself\u001b[0m\u001b[0;34m.\u001b[0m\u001b[0mreport_error\u001b[0m\u001b[0;34m(\u001b[0m\u001b[0;34m'no suitable InfoExtractor for URL %s'\u001b[0m \u001b[0;34m%\u001b[0m \u001b[0murl\u001b[0m\u001b[0;34m)\u001b[0m\u001b[0;34m\u001b[0m\u001b[0;34m\u001b[0m\u001b[0m\n",
      "\u001b[0;32m~/.pyenv/versions/3.7.4/envs/music/lib/python3.7/site-packages/youtube_dl/YoutubeDL.py\u001b[0m in \u001b[0;36mwrapper\u001b[0;34m(self, *args, **kwargs)\u001b[0m\n\u001b[1;32m    822\u001b[0m                 \u001b[0mself\u001b[0m\u001b[0;34m.\u001b[0m\u001b[0mreport_error\u001b[0m\u001b[0;34m(\u001b[0m\u001b[0mmsg\u001b[0m\u001b[0;34m)\u001b[0m\u001b[0;34m\u001b[0m\u001b[0;34m\u001b[0m\u001b[0m\n\u001b[1;32m    823\u001b[0m             \u001b[0;32mexcept\u001b[0m \u001b[0mExtractorError\u001b[0m \u001b[0;32mas\u001b[0m \u001b[0me\u001b[0m\u001b[0;34m:\u001b[0m  \u001b[0;31m# An error we somewhat expected\u001b[0m\u001b[0;34m\u001b[0m\u001b[0;34m\u001b[0m\u001b[0m\n\u001b[0;32m--> 824\u001b[0;31m                 \u001b[0mself\u001b[0m\u001b[0;34m.\u001b[0m\u001b[0mreport_error\u001b[0m\u001b[0;34m(\u001b[0m\u001b[0mcompat_str\u001b[0m\u001b[0;34m(\u001b[0m\u001b[0me\u001b[0m\u001b[0;34m)\u001b[0m\u001b[0;34m,\u001b[0m \u001b[0me\u001b[0m\u001b[0;34m.\u001b[0m\u001b[0mformat_traceback\u001b[0m\u001b[0;34m(\u001b[0m\u001b[0;34m)\u001b[0m\u001b[0;34m)\u001b[0m\u001b[0;34m\u001b[0m\u001b[0;34m\u001b[0m\u001b[0m\n\u001b[0m\u001b[1;32m    825\u001b[0m             \u001b[0;32mexcept\u001b[0m \u001b[0mMaxDownloadsReached\u001b[0m\u001b[0;34m:\u001b[0m\u001b[0;34m\u001b[0m\u001b[0;34m\u001b[0m\u001b[0m\n\u001b[1;32m    826\u001b[0m                 \u001b[0;32mraise\u001b[0m\u001b[0;34m\u001b[0m\u001b[0;34m\u001b[0m\u001b[0m\n",
      "\u001b[0;32m~/.pyenv/versions/3.7.4/envs/music/lib/python3.7/site-packages/youtube_dl/YoutubeDL.py\u001b[0m in \u001b[0;36mreport_error\u001b[0;34m(self, message, tb)\u001b[0m\n\u001b[1;32m    626\u001b[0m             \u001b[0m_msg_header\u001b[0m \u001b[0;34m=\u001b[0m \u001b[0;34m'ERROR:'\u001b[0m\u001b[0;34m\u001b[0m\u001b[0;34m\u001b[0m\u001b[0m\n\u001b[1;32m    627\u001b[0m         \u001b[0merror_message\u001b[0m \u001b[0;34m=\u001b[0m \u001b[0;34m'%s %s'\u001b[0m \u001b[0;34m%\u001b[0m \u001b[0;34m(\u001b[0m\u001b[0m_msg_header\u001b[0m\u001b[0;34m,\u001b[0m \u001b[0mmessage\u001b[0m\u001b[0;34m)\u001b[0m\u001b[0;34m\u001b[0m\u001b[0;34m\u001b[0m\u001b[0m\n\u001b[0;32m--> 628\u001b[0;31m         \u001b[0mself\u001b[0m\u001b[0;34m.\u001b[0m\u001b[0mtrouble\u001b[0m\u001b[0;34m(\u001b[0m\u001b[0merror_message\u001b[0m\u001b[0;34m,\u001b[0m \u001b[0mtb\u001b[0m\u001b[0;34m)\u001b[0m\u001b[0;34m\u001b[0m\u001b[0;34m\u001b[0m\u001b[0m\n\u001b[0m\u001b[1;32m    629\u001b[0m \u001b[0;34m\u001b[0m\u001b[0m\n\u001b[1;32m    630\u001b[0m     \u001b[0;32mdef\u001b[0m \u001b[0mreport_file_already_downloaded\u001b[0m\u001b[0;34m(\u001b[0m\u001b[0mself\u001b[0m\u001b[0;34m,\u001b[0m \u001b[0mfile_name\u001b[0m\u001b[0;34m)\u001b[0m\u001b[0;34m:\u001b[0m\u001b[0;34m\u001b[0m\u001b[0;34m\u001b[0m\u001b[0m\n",
      "\u001b[0;32m~/.pyenv/versions/3.7.4/envs/music/lib/python3.7/site-packages/youtube_dl/YoutubeDL.py\u001b[0m in \u001b[0;36mtrouble\u001b[0;34m(self, message, tb)\u001b[0m\n\u001b[1;32m    596\u001b[0m             \u001b[0;32melse\u001b[0m\u001b[0;34m:\u001b[0m\u001b[0;34m\u001b[0m\u001b[0;34m\u001b[0m\u001b[0m\n\u001b[1;32m    597\u001b[0m                 \u001b[0mexc_info\u001b[0m \u001b[0;34m=\u001b[0m \u001b[0msys\u001b[0m\u001b[0;34m.\u001b[0m\u001b[0mexc_info\u001b[0m\u001b[0;34m(\u001b[0m\u001b[0;34m)\u001b[0m\u001b[0;34m\u001b[0m\u001b[0;34m\u001b[0m\u001b[0m\n\u001b[0;32m--> 598\u001b[0;31m             \u001b[0;32mraise\u001b[0m \u001b[0mDownloadError\u001b[0m\u001b[0;34m(\u001b[0m\u001b[0mmessage\u001b[0m\u001b[0;34m,\u001b[0m \u001b[0mexc_info\u001b[0m\u001b[0;34m)\u001b[0m\u001b[0;34m\u001b[0m\u001b[0;34m\u001b[0m\u001b[0m\n\u001b[0m\u001b[1;32m    599\u001b[0m         \u001b[0mself\u001b[0m\u001b[0;34m.\u001b[0m\u001b[0m_download_retcode\u001b[0m \u001b[0;34m=\u001b[0m \u001b[0;36m1\u001b[0m\u001b[0;34m\u001b[0m\u001b[0;34m\u001b[0m\u001b[0m\n\u001b[1;32m    600\u001b[0m \u001b[0;34m\u001b[0m\u001b[0m\n",
      "\u001b[0;31mDownloadError\u001b[0m: ERROR: 'h' is not a valid URL. Set --default-search \"ytsearch\" (or run  youtube-dl \"ytsearch:h\" ) to search YouTube"
     ]
    }
   ],
   "source": [
    "audio_downloader.download(\n",
    "    \"https://rr9---sn-bvvbax-cvne.googlevideo.com/videoplayback?expire=1646817718&ei=Vh0oYuLxKtamhwa9u6T4Aw&ip=2601%3A18d%3A4501%3A1130%3Acdb0%3Abdd7%3Ae67d%3A23e0&id=o-ADKLQurjZvI-bwYTjoc6PBLtIuwJw8X5kKYqC6TNslWq&itag=140&source=youtube&requiressl=yes&mh=gJ&mm=31%2C29&mn=sn-bvvbax-cvne%2Csn-ab5sznl7&ms=au%2Crdu&mv=m&mvi=9&pl=37&initcwndbps=1785000&vprv=1&mime=audio%2Fmp4&ns=UGk0a7Uujv2jkau3Uuf5CU0G&gir=yes&clen=10393940&dur=642.194&lmt=1623528688478062&mt=1646795841&fvip=3&keepalive=yes&fexp=24001373%2C24007246&c=WEB&txp=5431432&n=dqpDmIRlXYvAvWHW_IL5&sparams=expire%2Cei%2Cip%2Cid%2Citag%2Csource%2Crequiressl%2Cvprv%2Cmime%2Cns%2Cgir%2Cclen%2Cdur%2Clmt&lsparams=mh%2Cmm%2Cmn%2Cms%2Cmv%2Cmvi%2Cpl%2Cinitcwndbps&lsig=AG3C_xAwRQIhAJ_7uQPQBaBFMn9VU-aGPueYj8pNDsDH6n0CvpcEsfn4AiBAr1UDt5t3Kb-_mqWEkAZ0U7IGE5bv8Zp2Onk8EgKNXA%3D%3D&sig=AOq0QJ8wRQIgTxznmtHmt35Ocr8KD8B0SEw4b9K9nICuFDFz0ABZNyoCIQDH-cEgUmIcVHOnHcCNbcrHuH37WsF7BuytKkJLB0vaPA==\"\n",
    ")"
   ]
  },
  {
   "cell_type": "code",
   "execution_count": null,
   "id": "ae6891e6",
   "metadata": {},
   "outputs": [],
   "source": []
  }
 ],
 "metadata": {
  "kernelspec": {
   "display_name": "Python 3 (ipykernel)",
   "language": "python",
   "name": "python3"
  },
  "language_info": {
   "codemirror_mode": {
    "name": "ipython",
    "version": 3
   },
   "file_extension": ".py",
   "mimetype": "text/x-python",
   "name": "python",
   "nbconvert_exporter": "python",
   "pygments_lexer": "ipython3",
   "version": "3.7.4"
  }
 },
 "nbformat": 4,
 "nbformat_minor": 5
}

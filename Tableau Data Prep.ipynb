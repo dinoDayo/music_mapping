{
 "cells": [
  {
   "cell_type": "markdown",
   "id": "0f5b9a02",
   "metadata": {},
   "source": [
    "#### mbti.csv"
   ]
  },
  {
   "cell_type": "code",
   "execution_count": 10,
   "id": "4e152449",
   "metadata": {},
   "outputs": [
    {
     "data": {
      "text/html": [
       "<div>\n",
       "<style scoped>\n",
       "    .dataframe tbody tr th:only-of-type {\n",
       "        vertical-align: middle;\n",
       "    }\n",
       "\n",
       "    .dataframe tbody tr th {\n",
       "        vertical-align: top;\n",
       "    }\n",
       "\n",
       "    .dataframe thead th {\n",
       "        text-align: right;\n",
       "    }\n",
       "</style>\n",
       "<table border=\"1\" class=\"dataframe\">\n",
       "  <thead>\n",
       "    <tr style=\"text-align: right;\">\n",
       "      <th></th>\n",
       "      <th>type</th>\n",
       "      <th>posts</th>\n",
       "    </tr>\n",
       "  </thead>\n",
       "  <tbody>\n",
       "    <tr>\n",
       "      <th>0</th>\n",
       "      <td>INFJ</td>\n",
       "      <td>'http://www.youtube.com/watch?v=qsXHcwe3krw|||...</td>\n",
       "    </tr>\n",
       "    <tr>\n",
       "      <th>1</th>\n",
       "      <td>ENTP</td>\n",
       "      <td>'I'm finding the lack of me in these posts ver...</td>\n",
       "    </tr>\n",
       "    <tr>\n",
       "      <th>2</th>\n",
       "      <td>INTP</td>\n",
       "      <td>'Good one  _____   https://www.youtube.com/wat...</td>\n",
       "    </tr>\n",
       "    <tr>\n",
       "      <th>3</th>\n",
       "      <td>INTJ</td>\n",
       "      <td>'Dear INTP,   I enjoyed our conversation the o...</td>\n",
       "    </tr>\n",
       "    <tr>\n",
       "      <th>4</th>\n",
       "      <td>ENTJ</td>\n",
       "      <td>'You're fired.|||That's another silly misconce...</td>\n",
       "    </tr>\n",
       "  </tbody>\n",
       "</table>\n",
       "</div>"
      ],
      "text/plain": [
       "   type                                              posts\n",
       "0  INFJ  'http://www.youtube.com/watch?v=qsXHcwe3krw|||...\n",
       "1  ENTP  'I'm finding the lack of me in these posts ver...\n",
       "2  INTP  'Good one  _____   https://www.youtube.com/wat...\n",
       "3  INTJ  'Dear INTP,   I enjoyed our conversation the o...\n",
       "4  ENTJ  'You're fired.|||That's another silly misconce..."
      ]
     },
     "execution_count": 10,
     "metadata": {},
     "output_type": "execute_result"
    }
   ],
   "source": [
    "# initializing environment...\n",
    "import pandas as pd\n",
    "\n",
    "data_path = \"/Users/dayoorigunwa/code_base/music_mapping/data/\"\n",
    "filename = \"mbti_1.csv\"\n",
    "\n",
    "mbti_df = pd.read_csv(data_path + filename)\n",
    "mbti_df.head()"
   ]
  },
  {
   "cell_type": "code",
   "execution_count": 11,
   "id": "85c80afc",
   "metadata": {},
   "outputs": [
    {
     "data": {
      "text/html": [
       "<div>\n",
       "<style scoped>\n",
       "    .dataframe tbody tr th:only-of-type {\n",
       "        vertical-align: middle;\n",
       "    }\n",
       "\n",
       "    .dataframe tbody tr th {\n",
       "        vertical-align: top;\n",
       "    }\n",
       "\n",
       "    .dataframe thead th {\n",
       "        text-align: right;\n",
       "    }\n",
       "</style>\n",
       "<table border=\"1\" class=\"dataframe\">\n",
       "  <thead>\n",
       "    <tr style=\"text-align: right;\">\n",
       "      <th>type</th>\n",
       "      <th>ESTJ</th>\n",
       "      <th>ESFJ</th>\n",
       "      <th>ESFP</th>\n",
       "      <th>ESTP</th>\n",
       "      <th>ISFJ</th>\n",
       "      <th>ENFJ</th>\n",
       "      <th>ISTJ</th>\n",
       "      <th>ENTJ</th>\n",
       "      <th>ISFP</th>\n",
       "      <th>ISTP</th>\n",
       "      <th>ENFP</th>\n",
       "      <th>ENTP</th>\n",
       "      <th>INTJ</th>\n",
       "      <th>INTP</th>\n",
       "      <th>INFJ</th>\n",
       "      <th>INFP</th>\n",
       "    </tr>\n",
       "  </thead>\n",
       "  <tbody>\n",
       "    <tr>\n",
       "      <th>posts</th>\n",
       "      <td>39</td>\n",
       "      <td>42</td>\n",
       "      <td>48</td>\n",
       "      <td>89</td>\n",
       "      <td>166</td>\n",
       "      <td>190</td>\n",
       "      <td>205</td>\n",
       "      <td>231</td>\n",
       "      <td>271</td>\n",
       "      <td>337</td>\n",
       "      <td>675</td>\n",
       "      <td>685</td>\n",
       "      <td>1091</td>\n",
       "      <td>1304</td>\n",
       "      <td>1470</td>\n",
       "      <td>1832</td>\n",
       "    </tr>\n",
       "  </tbody>\n",
       "</table>\n",
       "</div>"
      ],
      "text/plain": [
       "type   ESTJ  ESFJ  ESFP  ESTP  ISFJ  ENFJ  ISTJ  ENTJ  ISFP  ISTP  ENFP  ENTP  \\\n",
       "posts    39    42    48    89   166   190   205   231   271   337   675   685   \n",
       "\n",
       "type   INTJ  INTP  INFJ  INFP  \n",
       "posts  1091  1304  1470  1832  "
      ]
     },
     "execution_count": 11,
     "metadata": {},
     "output_type": "execute_result"
    }
   ],
   "source": [
    "type_dist = mbti_df.groupby([\"type\"]).count().sort_values(\"posts\").T\n",
    "type_dist"
   ]
  },
  {
   "cell_type": "code",
   "execution_count": 12,
   "id": "fdd6d0c5",
   "metadata": {},
   "outputs": [],
   "source": [
    "type_dist.to_csv(data_path + \"tableau_data/mbti_data_groups.csv\")"
   ]
  },
  {
   "cell_type": "code",
   "execution_count": 18,
   "id": "575e3899",
   "metadata": {},
   "outputs": [
    {
     "name": "stdout",
     "output_type": "stream",
     "text": [
      "<class 'pandas.core.frame.DataFrame'>\n",
      "RangeIndex: 644 entries, 0 to 643\n",
      "Data columns (total 60 columns):\n",
      " #   Column                     Non-Null Count  Dtype  \n",
      "---  ------                     --------------  -----  \n",
      " 0   Unnamed: 0                 644 non-null    int64  \n",
      " 1   name                       644 non-null    object \n",
      " 2   artist                     644 non-null    object \n",
      " 3   lyrics                     644 non-null    object \n",
      " 4   date_added                 644 non-null    object \n",
      " 5   energy                     644 non-null    float64\n",
      " 6   liveness                   644 non-null    float64\n",
      " 7   tempo                      644 non-null    float64\n",
      " 8   speechiness                644 non-null    float64\n",
      " 9   acousticness               644 non-null    float64\n",
      " 10  instrumentalness           644 non-null    float64\n",
      " 11  time_signature             644 non-null    float64\n",
      " 12  danceability               644 non-null    float64\n",
      " 13  valence                    644 non-null    float64\n",
      " 14  duration_ms                644 non-null    float64\n",
      " 15  loudness                   644 non-null    float64\n",
      " 16  utils_spotify_id           644 non-null    object \n",
      " 17  utils_genius_data          644 non-null    object \n",
      " 18  flavor_text_idx            644 non-null    object \n",
      " 19  flavor_text                644 non-null    object \n",
      " 20  basic_clean                644 non-null    object \n",
      " 21  clean_tokes                644 non-null    object \n",
      " 22  stemmed                    643 non-null    object \n",
      " 23  lemmatized                 643 non-null    object \n",
      " 24  pos_tags                   644 non-null    object \n",
      " 25  clean_lemmatized           643 non-null    object \n",
      " 26  song_length                644 non-null    int64  \n",
      " 27  norm_energy                644 non-null    float64\n",
      " 28  norm_liveness              644 non-null    float64\n",
      " 29  norm_tempo                 644 non-null    float64\n",
      " 30  norm_speechiness           644 non-null    float64\n",
      " 31  norm_acousticness          644 non-null    float64\n",
      " 32  norm_instrumentalness      644 non-null    float64\n",
      " 33  norm_time_signature        644 non-null    float64\n",
      " 34  norm_danceability          644 non-null    float64\n",
      " 35  norm_valence               644 non-null    float64\n",
      " 36  norm_duration_ms           644 non-null    float64\n",
      " 37  norm_loudness              644 non-null    float64\n",
      " 38  energy_b3_label            644 non-null    object \n",
      " 39  liveness_b3_label          644 non-null    object \n",
      " 40  tempo_b3_label             0 non-null      float64\n",
      " 41  speechiness_b3_label       644 non-null    object \n",
      " 42  acousticness_b3_label      644 non-null    object \n",
      " 43  instrumentalness_b3_label  290 non-null    object \n",
      " 44  time_signature_b3_label    2 non-null      object \n",
      " 45  danceability_b3_label      644 non-null    object \n",
      " 46  valence_b3_label           644 non-null    object \n",
      " 47  duration_ms_b3_label       0 non-null      float64\n",
      " 48  loudness_b3_label          0 non-null      float64\n",
      " 49  energy_b4_label            644 non-null    object \n",
      " 50  liveness_b4_label          644 non-null    object \n",
      " 51  tempo_b4_label             0 non-null      float64\n",
      " 52  speechiness_b4_label       644 non-null    object \n",
      " 53  acousticness_b4_label      644 non-null    object \n",
      " 54  instrumentalness_b4_label  290 non-null    object \n",
      " 55  time_signature_b4_label    2 non-null      object \n",
      " 56  danceability_b4_label      644 non-null    object \n",
      " 57  valence_b4_label           644 non-null    object \n",
      " 58  duration_ms_b4_label       0 non-null      float64\n",
      " 59  loudness_b4_label          0 non-null      float64\n",
      "dtypes: float64(28), int64(2), object(30)\n",
      "memory usage: 302.0+ KB\n"
     ]
    }
   ],
   "source": [
    "song_df.info()"
   ]
  },
  {
   "cell_type": "markdown",
   "id": "72a430c3",
   "metadata": {},
   "source": [
    "#### spotify_audio.csv"
   ]
  },
  {
   "cell_type": "code",
   "execution_count": 20,
   "id": "425667fb",
   "metadata": {},
   "outputs": [
    {
     "name": "stdout",
     "output_type": "stream",
     "text": [
      "<class 'pandas.core.frame.DataFrame'>\n",
      "RangeIndex: 644 entries, 0 to 643\n",
      "Data columns (total 15 columns):\n",
      " #   Column            Non-Null Count  Dtype  \n",
      "---  ------            --------------  -----  \n",
      " 0   name              644 non-null    object \n",
      " 1   artist            644 non-null    object \n",
      " 2   date_added        644 non-null    object \n",
      " 3   energy            644 non-null    float64\n",
      " 4   liveness          644 non-null    float64\n",
      " 5   tempo             644 non-null    float64\n",
      " 6   speechiness       644 non-null    float64\n",
      " 7   acousticness      644 non-null    float64\n",
      " 8   instrumentalness  644 non-null    float64\n",
      " 9   time_signature    644 non-null    float64\n",
      " 10  danceability      644 non-null    float64\n",
      " 11  valence           644 non-null    float64\n",
      " 12  duration_ms       644 non-null    float64\n",
      " 13  loudness          644 non-null    float64\n",
      " 14  song_length       644 non-null    int64  \n",
      "dtypes: float64(11), int64(1), object(3)\n",
      "memory usage: 75.6+ KB\n"
     ]
    }
   ],
   "source": [
    "# initializing environment...\n",
    "from os import listdir\n",
    "from os.path import isfile, join\n",
    "\n",
    "data_path = \"/Users/dayoorigunwa/code_base/music_mapping/data/\"\n",
    "allfiles = [f for f in listdir(data_path) if isfile(join(data_path, f))]\n",
    "encoded_dfs = [filename for filename in allfiles if \"encoded_dataset\" in filename]\n",
    "encoded_dfs.sort()\n",
    "song_df = pd.read_csv(data_path + encoded_dfs[-1])\n",
    "\n",
    "# variable defs...\n",
    "audio_cols = [\n",
    "    \"energy\",\n",
    "    \"liveness\",\n",
    "    \"tempo\",\n",
    "    \"speechiness\",\n",
    "    \"acousticness\",\n",
    "    \"instrumentalness\",\n",
    "    \"time_signature\",\n",
    "    \"danceability\",\n",
    "    \"valence\",\n",
    "    \"duration_ms\",\n",
    "    \"loudness\",\n",
    "]\n",
    "\n",
    "other_cols = [\"name\", \"artist\", \"date_added\", \"song_length\"]\n",
    "audio_df = song_df.drop(\n",
    "    columns=[col for col in list(song_df.columns) if col not in audio_cols + other_cols]\n",
    ")\n",
    "audio_df.info()"
   ]
  },
  {
   "cell_type": "code",
   "execution_count": 22,
   "id": "2911736d",
   "metadata": {},
   "outputs": [],
   "source": [
    "audio_df.to_csv(data_path + \"tableau_data/spotify_audio_ratings.csv\")"
   ]
  },
  {
   "cell_type": "markdown",
   "id": "ef06fb0f",
   "metadata": {},
   "source": [
    "#### binned_spotify_songs.csv"
   ]
  },
  {
   "cell_type": "code",
   "execution_count": null,
   "id": "5f7af955",
   "metadata": {},
   "outputs": [],
   "source": []
  }
 ],
 "metadata": {
  "kernelspec": {
   "display_name": "Python 3 (ipykernel)",
   "language": "python",
   "name": "python3"
  },
  "language_info": {
   "codemirror_mode": {
    "name": "ipython",
    "version": 3
   },
   "file_extension": ".py",
   "mimetype": "text/x-python",
   "name": "python",
   "nbconvert_exporter": "python",
   "pygments_lexer": "ipython3",
   "version": "3.7.4"
  }
 },
 "nbformat": 4,
 "nbformat_minor": 5
}

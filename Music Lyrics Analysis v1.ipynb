{
 "cells": [
  {
   "cell_type": "code",
   "execution_count": 1,
   "id": "565b90c7",
   "metadata": {},
   "outputs": [],
   "source": [
    "# imports\n",
    "import sys\n",
    "from spotify import spotifyApi\n",
    "from text_miner import textMiner"
   ]
  },
  {
   "cell_type": "code",
   "execution_count": 2,
   "id": "6f6eb8af",
   "metadata": {},
   "outputs": [
    {
     "name": "stdout",
     "output_type": "stream",
     "text": [
      "Spotify Helper Methods: \n",
      " ['client_id', 'client_secret', 'data_path', 'download_spotify_playlist_audio_features', 'email', 'getClient', 'get_album_tracks', 'get_followed_users', 'get_playlist_audio_features', 'get_playlist_content', 'get_track_info', 'get_user_playlists', 'name', 'rename_spotify_songs', 'sp', 'test', 'username']\n",
      "\n",
      "\n",
      "Text Mining Helper Methods: \n",
      " ['lyrics_onto_frame', 'scrape_genius_lyrics', 'search_genius_song']\n"
     ]
    }
   ],
   "source": [
    "helper = spotifyApi()\n",
    "txtMiner = textMiner()\n",
    "print(f\"Spotify Helper Methods: \\n {[val for val in list(dir(helper)) if str(val)[0] != '_']}\")\n",
    "print(f\"\\n\\nText Mining Helper Methods: \\n {[val for val in list(dir(textMiner)) if str(val)[0] != '_']}\")"
   ]
  },
  {
   "cell_type": "code",
   "execution_count": 3,
   "id": "d472487e",
   "metadata": {},
   "outputs": [
    {
     "name": "stdout",
     "output_type": "stream",
     "text": [
      "Getting my spotify playlist data...\n",
      "\n",
      "Name: b'Study \\xf0\\x9f\\x93\\x9a', Number of songs: 53, Playlist ID: 5c68TrgrsR1COt97GYiHTm \n",
      "Name: b'Drank & Drugs', Number of songs: 5, Playlist ID: 5paUN0jPBlwPtOyLi4F7u8 \n",
      "Name: b'yeye', Number of songs: 12, Playlist ID: 3YUa8BAtVbKmStMYcUnF5z \n",
      "Name: b\"I'm Just Snacking\", Number of songs: 19, Playlist ID: 7f7xecW1muGd5KamjC3EEM \n",
      "Name: b'la flame', Number of songs: 396, Playlist ID: 0i3CkxalKp9RRW4jf63PU5 \n",
      "Name: b'Fashion Killa', Number of songs: 372, Playlist ID: 6k96myNgO28Lt9lZUPqdiU \n",
      "Name: b'vamos', Number of songs: 8, Playlist ID: 6pS0A7SrSkuxPSZnsaHd54 \n",
      "Name: b'View From A Blue Moon', Number of songs: 13, Playlist ID: 0cOa2UTqNsjWO5AJswRZRA \n",
      "Name: b'Eargasm', Number of songs: 142, Playlist ID: 088Bt2aW9pdozWiIc1t9j3 \n",
      "Name: b'Fresh Hits', Number of songs: 43, Playlist ID: 7miiGQXVM6luQXxr1CspvQ \n",
      "\n",
      "Extracted 1063 from 10 playlists.\n"
     ]
    }
   ],
   "source": [
    "print(\"Getting my spotify playlist data...\\n\")\n",
    "songs = []\n",
    "sp = helper.sp\n",
    "username = helper.username\n",
    "playlists = helper.get_user_playlists(username, sp)\n",
    "for playlist in playlists:\n",
    "    songs.extend(helper.get_playlist_content(username, playlist, sp, False))\n",
    "\n",
    "print(f\"\\nExtracted {len(songs)} from {len(playlists)} playlists.\")"
   ]
  },
  {
   "cell_type": "code",
   "execution_count": 4,
   "id": "f49b86e3",
   "metadata": {},
   "outputs": [
    {
     "name": "stdout",
     "output_type": "stream",
     "text": [
      "Testing GENIUS track lyric scraping... \n",
      "\n"
     ]
    },
    {
     "ename": "AttributeError",
     "evalue": "'textMiner' object has no attribute 'scrape_lyrics'",
     "output_type": "error",
     "traceback": [
      "\u001b[0;31m---------------------------------------------------------------------------\u001b[0m",
      "\u001b[0;31mAttributeError\u001b[0m                            Traceback (most recent call last)",
      "\u001b[0;32m/var/folders/9f/0jslw5zs3rg1hqt9w92zlbv00000gn/T/ipykernel_7055/1837128474.py\u001b[0m in \u001b[0;36m<module>\u001b[0;34m\u001b[0m\n\u001b[1;32m      5\u001b[0m     \u001b[0martistname\u001b[0m \u001b[0;34m=\u001b[0m \u001b[0ms\u001b[0m\u001b[0;34m[\u001b[0m\u001b[0;34m'artists'\u001b[0m\u001b[0;34m]\u001b[0m\u001b[0;34m[\u001b[0m\u001b[0;36m0\u001b[0m\u001b[0;34m]\u001b[0m\u001b[0;34m[\u001b[0m\u001b[0;34m'name'\u001b[0m\u001b[0;34m]\u001b[0m\u001b[0;34m\u001b[0m\u001b[0;34m\u001b[0m\u001b[0m\n\u001b[1;32m      6\u001b[0m     \u001b[0msongname\u001b[0m \u001b[0;34m=\u001b[0m \u001b[0ms\u001b[0m\u001b[0;34m[\u001b[0m\u001b[0;34m'name'\u001b[0m\u001b[0;34m]\u001b[0m\u001b[0;34m\u001b[0m\u001b[0;34m\u001b[0m\u001b[0m\n\u001b[0;32m----> 7\u001b[0;31m     \u001b[0msonglyrics\u001b[0m \u001b[0;34m=\u001b[0m \u001b[0mtxtMiner\u001b[0m\u001b[0;34m.\u001b[0m\u001b[0mscrape_lyrics\u001b[0m\u001b[0;34m(\u001b[0m\u001b[0martistname\u001b[0m\u001b[0;34m=\u001b[0m\u001b[0martistname\u001b[0m\u001b[0;34m,\u001b[0m \u001b[0msongname\u001b[0m\u001b[0;34m=\u001b[0m\u001b[0msongname\u001b[0m\u001b[0;34m)\u001b[0m\u001b[0;34m\u001b[0m\u001b[0;34m\u001b[0m\u001b[0m\n\u001b[0m\u001b[1;32m      8\u001b[0m     \u001b[0msong_set\u001b[0m\u001b[0;34m[\u001b[0m\u001b[0msongname\u001b[0m\u001b[0;34m]\u001b[0m \u001b[0;34m=\u001b[0m \u001b[0msonglyrics\u001b[0m\u001b[0;34m\u001b[0m\u001b[0;34m\u001b[0m\u001b[0m\n\u001b[1;32m      9\u001b[0m     \u001b[0;32mif\u001b[0m \u001b[0msonglyrics\u001b[0m \u001b[0;34m==\u001b[0m \u001b[0;36m0\u001b[0m\u001b[0;34m:\u001b[0m\u001b[0;34m\u001b[0m\u001b[0;34m\u001b[0m\u001b[0m\n",
      "\u001b[0;31mAttributeError\u001b[0m: 'textMiner' object has no attribute 'scrape_lyrics'"
     ]
    }
   ],
   "source": [
    "print(\"Testing GENIUS track lyric scraping... \\n\")\n",
    "song_set = dict()\n",
    "for song in songs:\n",
    "    s = song['track']\n",
    "    artistname = s['artists'][0]['name']\n",
    "    songname = s['name']\n",
    "    exists = \n",
    "    songlyrics = txtMiner.scrape_lyrics(artistname=artistname, songname=songname)\n",
    "    song_set[songname] = songlyrics\n",
    "    if songlyrics == 0:\n",
    "        print(f\"Could not find lyrics for: {songname} on GENIUS website! \\n\")"
   ]
  },
  {
   "cell_type": "code",
   "execution_count": 27,
   "id": "b3cdd269",
   "metadata": {},
   "outputs": [],
   "source": [
    "import pandas as pd\n",
    "song_set = {k: v for k, v in song_set.items() if v}\n",
    "df = pd.DataFrame(song_set.items())\n",
    "df.to_csv(helper.data_path + \"SpotifySongLyrics.csv\", index=False)"
   ]
  },
  {
   "cell_type": "code",
   "execution_count": 23,
   "id": "71469130",
   "metadata": {},
   "outputs": [],
   "source": [
    "total = 0\n",
    "zeros = 0\n",
    "lyrs = 0\n",
    "for song, lyrics in song_set.items():\n",
    "    total += 1\n",
    "    if lyrics:\n",
    "        lyrs += 1\n",
    "    else:\n",
    "        zeros += 1"
   ]
  },
  {
   "cell_type": "code",
   "execution_count": 18,
   "id": "90e319a4",
   "metadata": {},
   "outputs": [
    {
     "name": "stdout",
     "output_type": "stream",
     "text": [
      "TOTAL: 1005, \n",
      "MISSED LYRICS: 619, 0.6159203980099502, \n",
      "FOUND LYRICS: 386, 0.38407960199004976\n",
      "\n",
      "\n"
     ]
    }
   ],
   "source": [
    "print(f\"TOTAL: {total}, \\nMISSED LYRICS: {zeros}, {zeros/total}, \\nFOUND LYRICS: {lyrs}, {lyrs/total}\\n\\n\")"
   ]
  },
  {
   "cell_type": "code",
   "execution_count": 29,
   "id": "0ab584a4",
   "metadata": {},
   "outputs": [
    {
     "data": {
      "text/plain": [
       "386"
      ]
     },
     "execution_count": 29,
     "metadata": {},
     "output_type": "execute_result"
    }
   ],
   "source": [
    "len(song_set)"
   ]
  },
  {
   "cell_type": "code",
   "execution_count": null,
   "id": "89c20702",
   "metadata": {},
   "outputs": [],
   "source": []
  }
 ],
 "metadata": {
  "kernelspec": {
   "display_name": "Python 3 (ipykernel)",
   "language": "python",
   "name": "python3"
  },
  "language_info": {
   "codemirror_mode": {
    "name": "ipython",
    "version": 3
   },
   "file_extension": ".py",
   "mimetype": "text/x-python",
   "name": "python",
   "nbconvert_exporter": "python",
   "pygments_lexer": "ipython3",
   "version": "3.7.4"
  }
 },
 "nbformat": 4,
 "nbformat_minor": 5
}

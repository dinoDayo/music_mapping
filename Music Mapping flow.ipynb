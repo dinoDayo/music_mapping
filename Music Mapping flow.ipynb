{
 "cells": [
  {
   "cell_type": "markdown",
   "id": "74bd71f1-6cb8-45b0-a125-5bae8a3a23d3",
   "metadata": {},
   "source": [
    "## Music mapping flow 1\n",
    "1. get user spotify ID\n",
    "    - with user spotify ID, retrieve user spotify content list;\n",
    "        - tracklist\n",
    "        - audio qualities for respective song\n",
    "        - lyrics for respective song\n",
    "    - Backend done. Frontend needed for external use\n",
    "    - [Next feature](https://towardsdatascience.com/get-your-spotify-streaming-history-with-python-d5a208bbcbd3): analysis of user streaming history and compare with playlist patterns\n",
    "2. run existing Big5 text analysis to prepare collected data for review;\n",
    "    - genres over time\n",
    "    - MeyersBriggs v1 ft. Tufts buckets\n",
    "3. return two interactive visualizations;\n",
    "    - user music tastes over time\n",
    "    - user music moods over time"
   ]
  },
  {
   "cell_type": "markdown",
   "id": "81b367e6-cafd-45cb-9786-16ce9ce1f39e",
   "metadata": {},
   "source": [
    "### Step 1: Get user info"
   ]
  },
  {
   "cell_type": "code",
   "execution_count": 1,
   "id": "e1a0b08e-ff1f-4b44-b945-aa73f6986121",
   "metadata": {},
   "outputs": [
    {
     "name": "stdout",
     "output_type": "stream",
     "text": [
      "Name: b'tide pools ', Number of songs: 4, Playlist ID: 7HCAhke3De2jsnXb4ZFXaf \n",
      "Name: b'Unbeknownst Bangers', Number of songs: 27, Playlist ID: 3E684Qjlabk2LmcJjZ2zZQ \n",
      "Name: b'sampleLove', Number of songs: 116, Playlist ID: 0DYobfEIwMJlvVBymPoPCf \n",
      "Name: b'Costa Rica ', Number of songs: 0, Playlist ID: 46CQNWsKAfp3O2dD12aGV6 \n",
      "Name: b'purpleParrots pt.3', Number of songs: 34, Playlist ID: 01RLihOalQPRbNAJdCiwOn \n",
      "Name: b'Study \\xf0\\x9f\\x93\\x9a', Number of songs: 53, Playlist ID: 5c68TrgrsR1COt97GYiHTm \n",
      "Name: b'yeye', Number of songs: 12, Playlist ID: 3YUa8BAtVbKmStMYcUnF5z \n",
      "Name: b\"I'm Just Snacking\", Number of songs: 23, Playlist ID: 7f7xecW1muGd5KamjC3EEM \n",
      "Name: b'la flame', Number of songs: 472, Playlist ID: 0i3CkxalKp9RRW4jf63PU5 \n",
      "Name: b'Fashion Killa', Number of songs: 372, Playlist ID: 6k96myNgO28Lt9lZUPqdiU \n",
      "Name: b'vamos', Number of songs: 8, Playlist ID: 6pS0A7SrSkuxPSZnsaHd54 \n",
      "Name: b'View From A Blue Moon', Number of songs: 13, Playlist ID: 0cOa2UTqNsjWO5AJswRZRA \n",
      "Name: b'Eargasm', Number of songs: 142, Playlist ID: 088Bt2aW9pdozWiIc1t9j3 \n",
      "Name: b'Best Songs of 2023 (Clean)', Number of songs: 57, Playlist ID: 7miiGQXVM6luQXxr1CspvQ \n"
     ]
    },
    {
     "name": "stderr",
     "output_type": "stream",
     "text": [
      "100%|████████████████████████████████████████████████████████████████████████| 14/14 [32:10<00:00, 137.92s/it]\n"
     ]
    },
    {
     "name": "stdout",
     "output_type": "stream",
     "text": [
      "\n",
      "Extracted 1333 songs from 14 playlists from your Spotify Account.\n",
      "Scraped lyrics for 983 of the 1333 songs from genius.com.\n"
     ]
    }
   ],
   "source": [
    "# testing on another user...\n",
    "\n",
    "# variable setup\n",
    "from spotify import *\n",
    "from text_miner import *\n",
    "songs = []\n",
    "username = 12178525311 # --> JowMao ()\n",
    "helper = spotifyApi()\n",
    "txtMiner = textMiner()\n",
    "sp = helper.sp\n",
    "audio_df = pd.DataFrame()\n",
    "\n",
    "# retrieve user playlists\n",
    "playlists = helper.get_user_playlists(username=username, sp=sp)\n",
    "for playlist in tqdm(playlists):\n",
    "    \n",
    "    # retrieve playlist songs\n",
    "    tracklist = helper.get_playlist_content(username=username, playlist=playlist, sp=sp, csv=False)\n",
    "    \n",
    "    # retrieve playlist audio features\n",
    "    tmp_df = helper.get_playlist_audio_features(username=username, playlist=playlist, sp=sp, csv=False)\n",
    "    audio_df = pd.concat([audio_df, tmp_df], axis=0)\n",
    "    \n",
    "    # retrieve song lyrics (searching genius api)\n",
    "    for track in tracklist:\n",
    "        track['genius_url'] = None\n",
    "        track_name = track[\"track\"][\"name\"]\n",
    "        track_artist = track[\"track\"][\"artists\"][0][\"name\"]\n",
    "        genius_song_info = txtMiner.search_genius_song(track_name=track_name, track_artist=track_artist, debug=False)\n",
    "        if genius_song_info:\n",
    "            track[\"track\"][\"genius_info\"] = genius_song_info\n",
    "        else:\n",
    "            track[\"track\"][\"genius_info\"] = {\n",
    "                \"result\": {\n",
    "                    \"url\": \"https://genius.com/\" + track_name.replace(\" \", \"-\") + \"-\" + track_artist.replace(\" \", \"-\") + \"-\" + \"lyrics\"\n",
    "                }\n",
    "            }\n",
    "        track[\"track\"][\"lyrics\"] = txtMiner.scrape_genius_lyrics(artistname=track_artist, songname=track_name, url=track[\"track\"][\"genius_info\"][\"result\"][\"url\"])\n",
    "    \n",
    "    # save collected data for tracklist\n",
    "    songs.extend(tracklist)\n",
    "    \n",
    "print(\n",
    "    f\"\\nExtracted {len(songs)} songs from {len(playlists)} playlists from your Spotify Account.\\nScraped lyrics for {len([s for s in songs if s['track']['lyrics'] != ''])} of the {len(songs)} songs from genius.com.\"\n",
    ")\n",
    "\n",
    "# savings objects here just in case...\n",
    "txtMiner.save_df(filename=f\"User_{username}_audioFeautures_\", df=audio_df)\n",
    "txtMiner.save_df(filename=f\"User_{username}_songsNlyrics_\", df=pd.DataFrame([songs]))\n",
    "\n",
    "# success! \n",
    "# result of running this cell: \n",
    "# { \n",
    "#  'songs': list of songs in your playlists. Available lyrics from genius.com included, \n",
    "#  'audio_df': pandas dataframe containing the spotify-provided audio features present in each song in songs\n",
    "# }\n",
    "\n",
    "# NOTE: Connecting this to a user-interface will take a little tuning...could be hosted on AWS....on local server..."
   ]
  },
  {
   "cell_type": "markdown",
   "id": "61fcd019-4e88-4dc7-900c-478e31e68de3",
   "metadata": {},
   "source": [
    "### Step 2: Data preparation"
   ]
  },
  {
   "cell_type": "markdown",
   "id": "d5e5ba65-137f-4fd4-91e0-3ad1436e9609",
   "metadata": {},
   "source": [
    "##### Step 2a: Audio preparation"
   ]
  },
  {
   "cell_type": "code",
   "execution_count": 6,
   "id": "7fef87a6-c96a-4b6f-bdb9-3e42df36e819",
   "metadata": {},
   "outputs": [
    {
     "name": "stdout",
     "output_type": "stream",
     "text": [
      "<class 'pandas.core.frame.DataFrame'>\n",
      "Int64Index: 1103 entries, 0 to 56\n",
      "Data columns (total 16 columns):\n",
      " #   Column            Non-Null Count  Dtype  \n",
      "---  ------            --------------  -----  \n",
      " 0   energy            1103 non-null   float64\n",
      " 1   liveness          1103 non-null   float64\n",
      " 2   tempo             1103 non-null   float64\n",
      " 3   speechiness       1103 non-null   float64\n",
      " 4   acousticness      1103 non-null   float64\n",
      " 5   instrumentalness  1103 non-null   float64\n",
      " 6   time_signature    1103 non-null   object \n",
      " 7   danceability      1103 non-null   float64\n",
      " 8   key               1103 non-null   object \n",
      " 9   duration_ms       1103 non-null   object \n",
      " 10  loudness          1103 non-null   float64\n",
      " 11  valence           1103 non-null   float64\n",
      " 12  mode              1103 non-null   object \n",
      " 13  type              1103 non-null   object \n",
      " 14  uri               1103 non-null   object \n",
      " 15  playlist_id       1103 non-null   object \n",
      "dtypes: float64(9), object(7)\n",
      "memory usage: 146.5+ KB\n"
     ]
    }
   ],
   "source": [
    "# get latest set of audioFeatures (moods over time)\n",
    "# data_path=txtMiner.data_path\n",
    "# allfiles = [f for f in listdir(data_path) if isfile(join(data_path, f))]\n",
    "# audio_dfs = [filename for filename in allfiles if \"audioFeatures\" in filename]\n",
    "# audio_dfs.sort()\n",
    "# audio_df = pd.read_csv(data_path + audio_dfs[-1])\n",
    "audio_df.info()"
   ]
  },
  {
   "cell_type": "code",
   "execution_count": 7,
   "id": "e28cd776-c96b-4c55-9f7c-3818daf9a884",
   "metadata": {},
   "outputs": [],
   "source": [
    "# TODO: Is cleaning necessary for these new datasets?"
   ]
  },
  {
   "cell_type": "markdown",
   "id": "e99ed4c9-d145-480b-8b40-25e86a1ccb6c",
   "metadata": {},
   "source": [
    "NOTES: \n",
    "    \n",
    "    This is all bad. The output from step 1 should be a single denormalized dataset. Any alternative will result in disaster.\n",
    "    "
   ]
  },
  {
   "cell_type": "markdown",
   "id": "7bbe541d-c63a-47bc-9634-5e711d447167",
   "metadata": {},
   "source": [
    "##### Step 2b: Song / Lyrics preparation (genres over time)"
   ]
  }
 ],
 "metadata": {
  "kernelspec": {
   "display_name": "Python 3 (ipykernel)",
   "language": "python",
   "name": "python3"
  },
  "language_info": {
   "codemirror_mode": {
    "name": "ipython",
    "version": 3
   },
   "file_extension": ".py",
   "mimetype": "text/x-python",
   "name": "python",
   "nbconvert_exporter": "python",
   "pygments_lexer": "ipython3",
   "version": "3.7.4"
  }
 },
 "nbformat": 4,
 "nbformat_minor": 5
}

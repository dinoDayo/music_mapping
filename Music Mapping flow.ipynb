{
 "cells": [
  {
   "cell_type": "markdown",
   "id": "74bd71f1-6cb8-45b0-a125-5bae8a3a23d3",
   "metadata": {},
   "source": [
    "## Music mapping flow 1\n",
    "1. get user spotify ID\n",
    "    - with user spotify ID, retrieve user spotify content list;\n",
    "        - tracklist\n",
    "        - audio qualities for respective song\n",
    "        - lyrics for respective song\n",
    "    - Backend done. Frontend needed for external use\n",
    "    - [Next feature](https://towardsdatascience.com/get-your-spotify-streaming-history-with-python-d5a208bbcbd3): analysis of user streaming history and compare with playlist patterns\n",
    "2. run existing Big5 text analysis to prepare collected data for review;\n",
    "    - genres over time\n",
    "    - MeyersBriggs v1 ft. Tufts buckets\n",
    "3. return two interactive visualizations;\n",
    "    - user music tastes over time\n",
    "    - user music moods over time"
   ]
  },
  {
   "cell_type": "markdown",
   "id": "81b367e6-cafd-45cb-9786-16ce9ce1f39e",
   "metadata": {},
   "source": [
    "### Step 1: Get user info"
   ]
  },
  {
   "cell_type": "code",
   "execution_count": 8,
   "id": "e1a0b08e-ff1f-4b44-b945-aa73f6986121",
   "metadata": {},
   "outputs": [
    {
     "name": "stdout",
     "output_type": "stream",
     "text": [
      "Name: b'new muscles unlocked ', Number of songs: 5, Playlist ID: 2OuWrX2IsFgZnLw0XEzPeF \n",
      "Name: b'la di da - acoustic', Number of songs: 13, Playlist ID: 64sJirLaDYFs8bE9IM8nIy \n",
      "Name: b'mad shower ', Number of songs: 26, Playlist ID: 6uImMNgmnO5Ls6wRZlrPt7 \n",
      "Name: b'late shower ', Number of songs: 13, Playlist ID: 1mZNXPGJHFZujIMt6HSb8g \n",
      "Name: b'stoner works out ', Number of songs: 11, Playlist ID: 0v69rj4zRWesNXlxwBxiGQ \n",
      "Name: b'Your Heart', Number of songs: 27, Playlist ID: 5Gz7Kizr995O9XX4QLEEu8 \n",
      "Name: b'god help us all', Number of songs: 32, Playlist ID: 4ioyY08fTYEbyCM21677Fl \n",
      "Name: b'Miss You', Number of songs: 1, Playlist ID: 3WVyQI7fXOr39PGn6WVGks \n",
      "Name: b\"I Wasn't Made to Fall in Love\", Number of songs: 30, Playlist ID: 4aHtqEEuoaEMz6q087BrD1 \n",
      "Name: b'HIMBO', Number of songs: 24, Playlist ID: 4UO54EWjw4MPFmK6EfzjkI \n",
      "Name: b'Long Day', Number of songs: 9, Playlist ID: 0UXfA16WQYqKykudY7xc5S \n",
      "Name: b'adolescence 2', Number of songs: 6, Playlist ID: 4v0Zs01XXPkjisIvDNcmRC \n",
      "Name: b'real big heart ', Number of songs: 27, Playlist ID: 5x4QesWldLCzZAh7KlTETD \n",
      "Name: b'party', Number of songs: 3, Playlist ID: 6SzqEfI4InZn5bYqKGpYgk \n",
      "Name: b'pigeons > doves', Number of songs: 10, Playlist ID: 5T49C3LWf0DDpIi9e92ILQ \n",
      "Name: b'slow down yo', Number of songs: 46, Playlist ID: 5Ip9V2uG5iP4D76mjLckoz \n",
      "Name: b'fuck these toxic hoes', Number of songs: 13, Playlist ID: 0OBen0ZIv5WQrLoRQq1zxO \n",
      "Name: b'slit ur wrists ', Number of songs: 8, Playlist ID: 4AIvUpX4qSNTrJNeTEXpDE \n",
      "Name: b'Stupid Decisions', Number of songs: 4, Playlist ID: 3vmakAlFg4kt4ywNRK2Ps9 \n",
      "Name: b'24 year old works out ', Number of songs: 36, Playlist ID: 17jXlwg2r1juQ4zznF9ghT \n",
      "Name: b'Dandelion', Number of songs: 16, Playlist ID: 1CdqlA5yTiJ74Aul33kQaF \n",
      "Name: b'Jerk', Number of songs: 27, Playlist ID: 4ConV6qqa7agNr4gqeEhPl \n",
      "Name: b\"DOUBLE D'Z\", Number of songs: 28, Playlist ID: 4XSc5xd920aWWHOBEysDu4 \n",
      "Name: b'nov 17th', Number of songs: 38, Playlist ID: 7jMTHJC372LGiyMIBHZOCD \n",
      "Name: b'Gettin\\xe2\\x80\\x99 Crunk', Number of songs: 13, Playlist ID: 0XmTYqmx5FXoWLEAxKtYHA \n",
      "Name: b'greatest november of ur fucking life', Number of songs: 24, Playlist ID: 3KauOL4lZTwBrS1SoWYCls \n",
      "Name: b'keep it did', Number of songs: 11, Playlist ID: 5HA5h3G4nHMGuEWzSF8IYs \n",
      "Name: b'fresh picks october ', Number of songs: 11, Playlist ID: 0gSjDp7sII7dMOs1UnxuDA \n",
      "Name: b'My Playlist #320', Number of songs: 13, Playlist ID: 3z0hqmahAmtFVbtOu9xgQw \n",
      "Name: b'kate paint \\xf0\\x9f\\x8e\\xa8 ', Number of songs: 31, Playlist ID: 4oR0tXPtpte4aFDJDd0mo7 \n",
      "Name: b'White Mercedes', Number of songs: 10, Playlist ID: 4PNNA1cCUlaStG1p2vvZkA \n",
      "Name: b'September ', Number of songs: 19, Playlist ID: 2L0zKfuo9F2u0yFr6IZOam \n",
      "Name: b'Hard up', Number of songs: 43, Playlist ID: 6eVfJZ9OtSdeM6FImmLdIf \n",
      "Name: b'August 22', Number of songs: 32, Playlist ID: 0CtiF4c37AJJqaTmcLjlnk \n",
      "Name: b'Discounts', Number of songs: 18, Playlist ID: 2rzB2qvBUfd2pB9OiF20mx \n",
      "Name: b'Liquid Courage', Number of songs: 4, Playlist ID: 0vU9mRbPNx2i8JbqRwu28d \n",
      "Name: b'I am ', Number of songs: 4, Playlist ID: 7jSjp8vg8OBIH3mMeAC1md \n",
      "Name: b'depressed as an adult', Number of songs: 16, Playlist ID: 5NjLUvG2qmZx0cBfGE418d \n",
      "Name: b'Bad Girls - Switch Remix', Number of songs: 5, Playlist ID: 0ufOIjaFwDgmWnviFkYPOR \n",
      "Name: b'Summer', Number of songs: 16, Playlist ID: 6DNEqrTIwunlssHiuTMPNK \n",
      "Name: b'Suggestions (Rainer)', Number of songs: 54, Playlist ID: 0949ATgyh2PzWRhdbljAeC \n",
      "Name: b'Miami', Number of songs: 49, Playlist ID: 3EaACudrpQDR3Gc2zgrHFW \n",
      "Name: b'Want U Back', Number of songs: 15, Playlist ID: 70LoYFCXkXvXJ5GqPP3AnV \n",
      "Name: b'Liquor Store', Number of songs: 9, Playlist ID: 1Zh69ytjD42eux8yp6nk7S \n",
      "Name: b'I Wanna Die', Number of songs: 11, Playlist ID: 1InijTSzmQfOwKVg0beLtq \n",
      "Name: b'Workout emo', Number of songs: 47, Playlist ID: 1DplCa5SYbxVUuFBtjM5Mq \n",
      "Name: b'303', Number of songs: 14, Playlist ID: 265Fzpoy0cc5pel2RZlkW7 \n",
      "Name: b'Let me down', Number of songs: 38, Playlist ID: 5HYFJefmfV4ToD7h4bzCHS \n",
      "Name: b'Haunted', Number of songs: 11, Playlist ID: 276nOz3xCHG9Ny29FIOPk2 \n",
      "Name: b'Death Parade', Number of songs: 14, Playlist ID: 5jruc4SkHRqE2kxasmekpe \n"
     ]
    },
    {
     "name": "stderr",
     "output_type": "stream",
     "text": [
      "100%|█████████████████████████████████████████████████████████████████████████| 50/50 [22:17<00:00, 26.75s/it]\n"
     ]
    },
    {
     "name": "stdout",
     "output_type": "stream",
     "text": [
      "\n",
      "Extracted 985 songs from 50 playlists from your Spotify Account.\n",
      "Scraped lyrics for 848 of the 985 songs from genius.com.\n"
     ]
    }
   ],
   "source": [
    "# testing on another user...\n",
    "\n",
    "# variable setup\n",
    "from spotify import *\n",
    "from text_miner import *\n",
    "songs = []\n",
    "username = 12125327174 # --> JowMao ()\n",
    "helper = spotifyApi()\n",
    "txtMiner = textMiner()\n",
    "sp = helper.sp\n",
    "audio_df = pd.DataFrame()\n",
    "\n",
    "# retrieve user playlists\n",
    "playlists = helper.get_user_playlists(username=username, sp=sp)\n",
    "for playlist in tqdm(playlists):\n",
    "    \n",
    "    # retrieve playlist songs\n",
    "    tracklist = helper.get_playlist_content(username=username, playlist=playlist, sp=sp, csv=False)\n",
    "    \n",
    "    # retrieve playlist audio features\n",
    "    tmp_df = helper.get_playlist_audio_features(username=username, playlist=playlist, sp=sp, csv=False)\n",
    "    audio_df = pd.concat([audio_df, tmp_df], axis=0)\n",
    "    \n",
    "    # retrieve song lyrics (searching genius api)\n",
    "    for track in tracklist:\n",
    "        track['genius_url'] = None\n",
    "        track_name = track[\"track\"][\"name\"]\n",
    "        track_artist = track[\"track\"][\"artists\"][0][\"name\"]\n",
    "        genius_song_info = txtMiner.search_genius_song(track_name=track_name, track_artist=track_artist, debug=False)\n",
    "        if genius_song_info:\n",
    "            track[\"track\"][\"genius_info\"] = genius_song_info\n",
    "        else:\n",
    "            track[\"track\"][\"genius_info\"] = {\n",
    "                \"result\": {\n",
    "                    \"url\": \"https://genius.com/\" + track_name.replace(\" \", \"-\") + \"-\" + track_artist.replace(\" \", \"-\") + \"-\" + \"lyrics\"\n",
    "                }\n",
    "            }\n",
    "        track[\"track\"][\"lyrics\"] = txtMiner.scrape_genius_lyrics(artistname=track_artist, songname=track_name, url=track[\"track\"][\"genius_info\"][\"result\"][\"url\"])\n",
    "    \n",
    "    # save collected data for tracklist\n",
    "    songs.extend(tracklist)\n",
    "    \n",
    "print(\n",
    "    f\"\\nExtracted {len(songs)} songs from {len(playlists)} playlists from your Spotify Account.\\nScraped lyrics for {len([s for s in songs if s['track']['lyrics'] != ''])} of the {len(songs)} songs from genius.com.\"\n",
    ")\n",
    "\n",
    "# savings objects here just in case...\n",
    "txtMiner.save_df(filename=f\"User_{username}_audioFeautures_\", df=audio_df)\n",
    "txtMiner.save_df(filename=f\"User_{username}_songsNlyrics_\", df=pd.DataFrame([songs]))\n",
    "\n",
    "# success! \n",
    "# result of running this cell: \n",
    "# { \n",
    "#  'songs': list of songs in your playlists. Available lyrics from genius.com included, \n",
    "#  'audio_df': pandas dataframe containing the spotify-provided audio features present in each song in songs\n",
    "# }\n",
    "\n",
    "# NOTE: Connecting this to a user-interface will take a little tuning...could be hosted on AWS....on local server..."
   ]
  },
  {
   "cell_type": "markdown",
   "id": "61fcd019-4e88-4dc7-900c-478e31e68de3",
   "metadata": {},
   "source": [
    "### Step 2: Data preparation"
   ]
  },
  {
   "cell_type": "markdown",
   "id": "d5e5ba65-137f-4fd4-91e0-3ad1436e9609",
   "metadata": {},
   "source": [
    "##### Step 2a: Audio preparation"
   ]
  },
  {
   "cell_type": "code",
   "execution_count": 6,
   "id": "7fef87a6-c96a-4b6f-bdb9-3e42df36e819",
   "metadata": {},
   "outputs": [
    {
     "name": "stdout",
     "output_type": "stream",
     "text": [
      "<class 'pandas.core.frame.DataFrame'>\n",
      "Int64Index: 1103 entries, 0 to 56\n",
      "Data columns (total 16 columns):\n",
      " #   Column            Non-Null Count  Dtype  \n",
      "---  ------            --------------  -----  \n",
      " 0   energy            1103 non-null   float64\n",
      " 1   liveness          1103 non-null   float64\n",
      " 2   tempo             1103 non-null   float64\n",
      " 3   speechiness       1103 non-null   float64\n",
      " 4   acousticness      1103 non-null   float64\n",
      " 5   instrumentalness  1103 non-null   float64\n",
      " 6   time_signature    1103 non-null   object \n",
      " 7   danceability      1103 non-null   float64\n",
      " 8   key               1103 non-null   object \n",
      " 9   duration_ms       1103 non-null   object \n",
      " 10  loudness          1103 non-null   float64\n",
      " 11  valence           1103 non-null   float64\n",
      " 12  mode              1103 non-null   object \n",
      " 13  type              1103 non-null   object \n",
      " 14  uri               1103 non-null   object \n",
      " 15  playlist_id       1103 non-null   object \n",
      "dtypes: float64(9), object(7)\n",
      "memory usage: 146.5+ KB\n"
     ]
    }
   ],
   "source": [
    "# get latest set of audioFeatures (moods over time)\n",
    "# data_path=txtMiner.data_path\n",
    "# allfiles = [f for f in listdir(data_path) if isfile(join(data_path, f))]\n",
    "# audio_dfs = [filename for filename in allfiles if \"audioFeatures\" in filename]\n",
    "# audio_dfs.sort()\n",
    "# audio_df = pd.read_csv(data_path + audio_dfs[-1])\n",
    "audio_df.info()"
   ]
  },
  {
   "cell_type": "code",
   "execution_count": 7,
   "id": "e28cd776-c96b-4c55-9f7c-3818daf9a884",
   "metadata": {},
   "outputs": [],
   "source": [
    "# TODO: Is cleaning necessary for these new datasets?"
   ]
  },
  {
   "cell_type": "markdown",
   "id": "e99ed4c9-d145-480b-8b40-25e86a1ccb6c",
   "metadata": {},
   "source": [
    "NOTES: \n",
    "    \n",
    "    This is all bad. The output from step 1 should be a single denormalized dataset. Any alternative will result in disaster.\n",
    "    "
   ]
  },
  {
   "cell_type": "markdown",
   "id": "7bbe541d-c63a-47bc-9634-5e711d447167",
   "metadata": {},
   "source": [
    "##### Step 2b: Song / Lyrics preparation (genres over time)"
   ]
  }
 ],
 "metadata": {
  "kernelspec": {
   "display_name": "Python 3 (ipykernel)",
   "language": "python",
   "name": "python3"
  },
  "language_info": {
   "codemirror_mode": {
    "name": "ipython",
    "version": 3
   },
   "file_extension": ".py",
   "mimetype": "text/x-python",
   "name": "python",
   "nbconvert_exporter": "python",
   "pygments_lexer": "ipython3",
   "version": "3.7.4"
  }
 },
 "nbformat": 4,
 "nbformat_minor": 5
}
